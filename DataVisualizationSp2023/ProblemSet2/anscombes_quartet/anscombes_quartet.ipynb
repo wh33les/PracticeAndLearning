{
 "cells": [
  {
   "cell_type": "code",
   "execution_count": 2,
   "id": "267648f7",
   "metadata": {},
   "outputs": [
    {
     "data": {
      "text/html": [
       "<div>\n",
       "<style scoped>\n",
       "    .dataframe tbody tr th:only-of-type {\n",
       "        vertical-align: middle;\n",
       "    }\n",
       "\n",
       "    .dataframe tbody tr th {\n",
       "        vertical-align: top;\n",
       "    }\n",
       "\n",
       "    .dataframe thead th {\n",
       "        text-align: right;\n",
       "    }\n",
       "</style>\n",
       "<table border=\"1\" class=\"dataframe\">\n",
       "  <thead>\n",
       "    <tr style=\"text-align: right;\">\n",
       "      <th></th>\n",
       "      <th>x1</th>\n",
       "      <th>y1</th>\n",
       "      <th>x2</th>\n",
       "      <th>y2</th>\n",
       "      <th>x3</th>\n",
       "      <th>y3</th>\n",
       "      <th>x4</th>\n",
       "      <th>y4</th>\n",
       "    </tr>\n",
       "  </thead>\n",
       "  <tbody>\n",
       "    <tr>\n",
       "      <th>0</th>\n",
       "      <td>10</td>\n",
       "      <td>8.0</td>\n",
       "      <td>10</td>\n",
       "      <td>9.1</td>\n",
       "      <td>10</td>\n",
       "      <td>7.5</td>\n",
       "      <td>8</td>\n",
       "      <td>6.6</td>\n",
       "    </tr>\n",
       "    <tr>\n",
       "      <th>1</th>\n",
       "      <td>8</td>\n",
       "      <td>7.0</td>\n",
       "      <td>8</td>\n",
       "      <td>8.1</td>\n",
       "      <td>8</td>\n",
       "      <td>6.8</td>\n",
       "      <td>8</td>\n",
       "      <td>5.8</td>\n",
       "    </tr>\n",
       "    <tr>\n",
       "      <th>2</th>\n",
       "      <td>13</td>\n",
       "      <td>7.6</td>\n",
       "      <td>13</td>\n",
       "      <td>8.7</td>\n",
       "      <td>13</td>\n",
       "      <td>12.7</td>\n",
       "      <td>8</td>\n",
       "      <td>7.7</td>\n",
       "    </tr>\n",
       "    <tr>\n",
       "      <th>3</th>\n",
       "      <td>9</td>\n",
       "      <td>8.8</td>\n",
       "      <td>9</td>\n",
       "      <td>8.8</td>\n",
       "      <td>9</td>\n",
       "      <td>7.1</td>\n",
       "      <td>8</td>\n",
       "      <td>8.8</td>\n",
       "    </tr>\n",
       "    <tr>\n",
       "      <th>4</th>\n",
       "      <td>11</td>\n",
       "      <td>8.3</td>\n",
       "      <td>11</td>\n",
       "      <td>9.3</td>\n",
       "      <td>11</td>\n",
       "      <td>7.8</td>\n",
       "      <td>8</td>\n",
       "      <td>8.5</td>\n",
       "    </tr>\n",
       "    <tr>\n",
       "      <th>5</th>\n",
       "      <td>14</td>\n",
       "      <td>10.0</td>\n",
       "      <td>14</td>\n",
       "      <td>8.1</td>\n",
       "      <td>14</td>\n",
       "      <td>8.8</td>\n",
       "      <td>8</td>\n",
       "      <td>7.0</td>\n",
       "    </tr>\n",
       "    <tr>\n",
       "      <th>6</th>\n",
       "      <td>6</td>\n",
       "      <td>7.2</td>\n",
       "      <td>6</td>\n",
       "      <td>6.1</td>\n",
       "      <td>6</td>\n",
       "      <td>6.1</td>\n",
       "      <td>8</td>\n",
       "      <td>5.3</td>\n",
       "    </tr>\n",
       "    <tr>\n",
       "      <th>7</th>\n",
       "      <td>4</td>\n",
       "      <td>4.3</td>\n",
       "      <td>4</td>\n",
       "      <td>3.1</td>\n",
       "      <td>4</td>\n",
       "      <td>5.4</td>\n",
       "      <td>19</td>\n",
       "      <td>12.5</td>\n",
       "    </tr>\n",
       "    <tr>\n",
       "      <th>8</th>\n",
       "      <td>12</td>\n",
       "      <td>10.8</td>\n",
       "      <td>12</td>\n",
       "      <td>9.1</td>\n",
       "      <td>12</td>\n",
       "      <td>8.2</td>\n",
       "      <td>8</td>\n",
       "      <td>5.6</td>\n",
       "    </tr>\n",
       "    <tr>\n",
       "      <th>9</th>\n",
       "      <td>7</td>\n",
       "      <td>4.8</td>\n",
       "      <td>7</td>\n",
       "      <td>7.3</td>\n",
       "      <td>7</td>\n",
       "      <td>6.4</td>\n",
       "      <td>8</td>\n",
       "      <td>7.9</td>\n",
       "    </tr>\n",
       "    <tr>\n",
       "      <th>10</th>\n",
       "      <td>5</td>\n",
       "      <td>5.7</td>\n",
       "      <td>5</td>\n",
       "      <td>4.7</td>\n",
       "      <td>5</td>\n",
       "      <td>5.7</td>\n",
       "      <td>8</td>\n",
       "      <td>6.9</td>\n",
       "    </tr>\n",
       "  </tbody>\n",
       "</table>\n",
       "</div>"
      ],
      "text/plain": [
       "    x1    y1  x2   y2  x3    y3  x4    y4\n",
       "0   10   8.0  10  9.1  10   7.5   8   6.6\n",
       "1    8   7.0   8  8.1   8   6.8   8   5.8\n",
       "2   13   7.6  13  8.7  13  12.7   8   7.7\n",
       "3    9   8.8   9  8.8   9   7.1   8   8.8\n",
       "4   11   8.3  11  9.3  11   7.8   8   8.5\n",
       "5   14  10.0  14  8.1  14   8.8   8   7.0\n",
       "6    6   7.2   6  6.1   6   6.1   8   5.3\n",
       "7    4   4.3   4  3.1   4   5.4  19  12.5\n",
       "8   12  10.8  12  9.1  12   8.2   8   5.6\n",
       "9    7   4.8   7  7.3   7   6.4   8   7.9\n",
       "10   5   5.7   5  4.7   5   5.7   8   6.9"
      ]
     },
     "execution_count": 2,
     "metadata": {},
     "output_type": "execute_result"
    }
   ],
   "source": [
    "# Import the data\n",
    "import pandas as pd\n",
    "anscombes_quartet = pd.read_csv(\"anscombe_data.csv\")\n",
    "anscombes_quartet"
   ]
  },
  {
   "cell_type": "code",
   "execution_count": 22,
   "id": "70928d69",
   "metadata": {},
   "outputs": [
    {
     "data": {
      "text/plain": [
       "[[10, 8, 13, 9, 11, 14, 6, 4, 12, 7, 5],\n",
       " [8.0, 7.0, 7.6, 8.8, 8.3, 10.0, 7.2, 4.3, 10.8, 4.8, 5.7],\n",
       " [10, 8, 13, 9, 11, 14, 6, 4, 12, 7, 5],\n",
       " [9.1, 8.1, 8.7, 8.8, 9.3, 8.1, 6.1, 3.1, 9.1, 7.3, 4.7],\n",
       " [10, 8, 13, 9, 11, 14, 6, 4, 12, 7, 5],\n",
       " [7.5, 6.8, 12.7, 7.1, 7.8, 8.8, 6.1, 5.4, 8.2, 6.4, 5.7],\n",
       " [8, 8, 8, 8, 8, 8, 8, 19, 8, 8, 8],\n",
       " [6.6, 5.8, 7.7, 8.8, 8.5, 7.0, 5.3, 12.5, 5.6, 7.9, 6.9]]"
      ]
     },
     "execution_count": 22,
     "metadata": {},
     "output_type": "execute_result"
    }
   ],
   "source": [
    "# Make an array with the columns of the data\n",
    "column_array = []\n",
    "for column in anscombes_quartet.columns.values.tolist():\n",
    "    column_array.append(anscombes_quartet[column].values.tolist())\n",
    "column_array    "
   ]
  },
  {
   "cell_type": "code",
   "execution_count": 74,
   "id": "fdbc4c52",
   "metadata": {},
   "outputs": [
    {
     "data": {
      "image/png": "[encoded data removed]",
      "text/plain": [
       "<Figure size 1440x288 with 4 Axes>"
      ]
     },
     "metadata": {
      "needs_background": "light"
     },
     "output_type": "display_data"
    }
   ],
   "source": [
    "# Import pyplot from matplotlib\n",
    "import matplotlib.pyplot as plt\n",
    "\n",
    "# Make the 4 plots\n",
    "fig,ax = plt.subplots(1, 4, figsize=(20,4))\n",
    "for i in range(4):\n",
    "    ax[i].scatter(column_array[2*i],\n",
    "                   column_array[2*i+1])\n",
    "    ax[i].set_xlabel(anscombes_quartet.columns.values.tolist()[2*i])\n",
    "    ax[i].set_ylabel(anscombes_quartet.columns.values.tolist()[2*i+1])\n",
    "    ax[i].set_title(\"Graph \"+str(i+1), fontsize=16)\n",
    "plt.show()"
   ]
  },
  {
   "cell_type": "code",
   "execution_count": 72,
   "id": "3f22b87a",
   "metadata": {},
   "outputs": [
    {
     "name": "stdout",
     "output_type": "stream",
     "text": [
      "  Graph     Mean    Variance    Correlation\n",
      "-------  -------  ----------  -------------\n",
      "      1  7.5         4.084         0.819093\n",
      "      2  7.49091     4.14091       0.814927\n",
      "      3  7.5         4.078         0.818202\n",
      "      4  7.50909     4.06491       0.821014\n"
     ]
    }
   ],
   "source": [
    "# Import the Pearson's correlation coefficient function\n",
    "from scipy.stats import pearsonr\n",
    "\n",
    "# Construct columns with the mean, variance, and covariance for each graph \n",
    "graph = [\"Graph\"]\n",
    "means = [\"Mean\"]\n",
    "variances = [\"Variance\"]\n",
    "correlations = [\"Correlation\"]\n",
    "for i in range(4):\n",
    "    graph.append(str(i+1))\n",
    "    ith_mean = anscombes_quartet[\"y\"+str(i+1)].mean()\n",
    "    means.append(ith_mean)\n",
    "    ith_variance = anscombes_quartet[\"y\"+str(i+1)].var()\n",
    "    variances.append(ith_variance)\n",
    "    ith_correlation, _ = pearsonr(column_array[2*i],column_array[2*i+1])\n",
    "    correlations.append(ith_correlation)\n",
    "    \n",
    "# Transpose the data for the table\n",
    "table_data = []\n",
    "for i in range(5):\n",
    "    table_data.append([graph[i], means[i], variances[i], correlations[i]])\n",
    "\n",
    "# Import the tabulate function to create the table\n",
    "from tabulate import tabulate\n",
    "\n",
    "# Create the table\n",
    "print(tabulate(table_data, headers='firstrow'))"
   ]
  },
  {
   "cell_type": "markdown",
   "id": "263f9b92",
   "metadata": {},
   "source": [
    "__WHAT ARE MY TAKEAWAYS FROM THIS DATA?__"
   ]
  }
 ],
 "metadata": {
  "kernelspec": {
   "display_name": "Python 3 (ipykernel)",
   "language": "python",
   "name": "python3"
  },
  "language_info": {
   "codemirror_mode": {
    "name": "ipython",
    "version": 3
   },
   "file_extension": ".py",
   "mimetype": "text/x-python",
   "name": "python",
   "nbconvert_exporter": "python",
   "pygments_lexer": "ipython3",
   "version": "3.9.12"
  }
 },
 "nbformat": 4,
 "nbformat_minor": 5
}
