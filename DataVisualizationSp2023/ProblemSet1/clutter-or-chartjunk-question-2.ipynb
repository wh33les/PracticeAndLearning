{
 "cells": [
  {
   "cell_type": "markdown",
   "id": "a0bbf94c",
   "metadata": {},
   "source": [
    "# Objective\n",
    "\n",
    "Identify the clutter in each of the following graphs and make suggestions for how to improve the figure.\n",
    "\n",
    "# Solution\n",
    "\n",
    "## Graph 1\n",
    "\n",
    "<img src=\"files/pdfquestion2graph1.png\" width=\"60%\" align=\"left\"></img>\n",
    "<br/><br/><br/><br/><br/><br/><br/><br/><br/><br/><br/><br/><br/><br/><br/>\n",
    "\n",
    "__Clutter:__  The vertical lines in each bar make the graph look like it has more bars.  It is unclear that this graph is a histogram.\n",
    "\n",
    "__Suggestions:__  Remove the vertical lines in each bar, but keep the borders on the bars.  The graph needs units on the $x$-axis and the label for the $y$-axis should be on the $y$-axis.  All of the text should be bigger.\n",
    "\n",
    "## Graph 2\n",
    "\n",
    "<img src=\"files/pdfquestion2graph2.png\" width=\"60%\" align=\"left\"></img>\n",
    "<br/><br/><br/><br/><br/><br/><br/><br/><br/><br/><br/><br/><br/>\n",
    "\n",
    "__Clutter:__  The people graphics are unnecessary.  It's not obvious that the author intended the changing hue of the graphics to indicate the increasing trend in the data.\n",
    "\n",
    "__Suggestions:__  This data would be better presented as a scatterplot with the year on the $x$-axis and the height on the $y$-axis.  The tick marks on the $y$-axis should have either cm or in with the other units in parentheses.  The world ranking could be the label for each data point, so it does not need to be included in the legend.  There should be a bigger color contrast between the men's heights and the women's heights.\n",
    "\n",
    "## Graph 3\n",
    "\n",
    "<img src=\"files/pdfquestion2graph3.png\" width=\"60%\" align=\"left\"></img>\n",
    "<br/><br/><br/><br/><br/><br/><br/><br/><br/><br/><br/><br/><br/><br/><br/>\n",
    "\n",
    "__Clutter:__  The monster graphic obscures the data being presented and makes it hard to read.\n",
    "\n",
    "__Suggestions:__  The units of millions should be labeled on the $y$-axis.  The monster graphic should be oriented in such a way that the graph is straight.  The title and axis labels should be in bigger text."
   ]
  },
  {
   "cell_type": "code",
   "execution_count": null,
   "id": "c7c1c52a",
   "metadata": {},
   "outputs": [],
   "source": []
  }
 ],
 "metadata": {
  "kernelspec": {
   "display_name": "Python 3 (ipykernel)",
   "language": "python",
   "name": "python3"
  },
  "language_info": {
   "codemirror_mode": {
    "name": "ipython",
    "version": 3
   },
   "file_extension": ".py",
   "mimetype": "text/x-python",
   "name": "python",
   "nbconvert_exporter": "python",
   "pygments_lexer": "ipython3",
   "version": "3.9.12"
  }
 },
 "nbformat": 4,
 "nbformat_minor": 5
}
