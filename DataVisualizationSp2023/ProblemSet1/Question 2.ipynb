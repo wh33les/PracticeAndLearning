{
 "cells": [
  {
   "cell_type": "markdown",
   "id": "0854292b",
   "metadata": {},
   "source": [
    "# Domain knowledge and adding context through annotations"
   ]
  },
  {
   "cell_type": "code",
   "execution_count": null,
   "id": "2c77a4ac",
   "metadata": {},
   "outputs": [],
   "source": [
    "import pandas as pd\n",
    "import numpy as np\n",
    "import matplotlib.pyplot as plt\n",
    "import seaborn as sns"
   ]
  },
  {
   "cell_type": "markdown",
   "id": "38536ffc",
   "metadata": {},
   "source": [
    "In this notebook we will touch on how a bit of domain knowledge and the addition of plot annotations can improve the utility of our data visualizations. We again return to the LeBron James shot selection data."
   ]
  },
  {
   "cell_type": "code",
   "execution_count": null,
   "id": "e74a0213",
   "metadata": {},
   "outputs": [],
   "source": [
    "df = pd.read_csv(\"../../data/lebron_james_taken_shots.csv\")\n",
    "rookie = df.loc[df.season=='2003-04'].copy()\n",
    "nineteenth = df.loc[df.season=='2020-21'].copy()"
   ]
  },
  {
   "cell_type": "markdown",
   "id": "5d7bb686",
   "metadata": {},
   "source": [
    "Make a bivariate KDE plot for the `rookie` and `nineteenth` `DataFrame`s using `seaborn`'s `jointplot` placing the `'x'` variable on the horizontal axis and the `'y'` variable on the vertical axis.\n",
    "\n",
    "Use the following arguments as well:\n",
    "- `fill=True`,\n",
    "- `thresh=0`,\n",
    "- `levels=5`,\n",
    "- `cmap=\"Greys\"`.\n",
    "\n",
    "Store the resulting `JointGrid` objects in variables that and then call:\n",
    "- `variable.ax_marg_x.remove()`,\n",
    "- `variable.ax_marg_y.remove()`.\n",
    "\n",
    "<i> Note: you may need to install the `contourpy` package for your code to work.</i>"
   ]
  },
  {
   "cell_type": "code",
   "execution_count": null,
   "id": "e40d9e69",
   "metadata": {},
   "outputs": [],
   "source": [
    "## Code here\n",
    "\n"
   ]
  },
  {
   "cell_type": "code",
   "execution_count": null,
   "id": "71a8bfbf",
   "metadata": {},
   "outputs": [],
   "source": [
    "## Code here\n",
    "\n"
   ]
  },
  {
   "cell_type": "markdown",
   "id": "58b74cb3",
   "metadata": {},
   "source": [
    "What you have created is a heatmap of the shot distributions for LeBron James's rookie and 19$^\\text{th}$ seasons in the NBA. The darker the region, the more shots he has taken there.\n",
    "\n",
    "While we should be able to tell that the plots look different, it may be difficult to interpret how they are different, particularly if we are not basketball fans. We could provide some additional context to these two plots by annotating the charts with additional court information. Each shot is taken on a court with the following demarcating lines.\n",
    "\n",
    "<img src=\"nba_court.png\" width=\"40%\"></img>\n",
    "\n",
    "The small circle at the bottom denotes the hoop that the players would like to get the ball into with each shot. The larger arc represents the line the demarcates where a made shot is worth 2 or 3 points. A shot made above the arc is worth three points, while a shot made below the arc is worth 2 points.\n",
    "\n",
    "The code written below provides a function that uses `matplotlib`'s `Patch` object to draw the demarcating lines of an NBA court. `draw_court` takes in an `Axes` object and then draws the lines on that object."
   ]
  },
  {
   "cell_type": "code",
   "execution_count": null,
   "id": "26dd547c",
   "metadata": {},
   "outputs": [],
   "source": [
    "from matplotlib.patches import Circle, Rectangle, Arc\n",
    "\n",
    "def draw_court(ax=None, color='black', lw=2, outer_lines=False):\n",
    "    # If an axes object isn't provided to plot onto, just get current one\n",
    "    if ax is None:\n",
    "        ax = plt.gca()\n",
    "\n",
    "    # Create the various parts of an NBA basketball court\n",
    "\n",
    "    # Create the basketball hoop\n",
    "    # Diameter of a hoop is 18\" so it has a radius of 9\", which is a value\n",
    "    # 7.5 in our coordinate system\n",
    "    hoop = Circle((0, 0), radius=7.5, linewidth=lw, color=color, fill=False)\n",
    "\n",
    "    # Create backboard\n",
    "    backboard = Rectangle((-30, -7.5), 60, -1, linewidth=lw, color=color)\n",
    "\n",
    "    # The paint\n",
    "    # Create the outer box 0f the paint, width=16ft, height=19ft\n",
    "    outer_box = Rectangle((-80, -47.5), 160, 190, linewidth=lw, color=color,\n",
    "                          fill=False)\n",
    "    # Create the inner box of the paint, widt=12ft, height=19ft\n",
    "    inner_box = Rectangle((-60, -47.5), 120, 190, linewidth=lw, color=color,\n",
    "                          fill=False)\n",
    "\n",
    "    # Create free throw top arc\n",
    "    top_free_throw = Arc((0, 142.5), 120, 120, theta1=0, theta2=180,\n",
    "                         linewidth=lw, color=color, fill=False)\n",
    "    # Create free throw bottom arc\n",
    "    bottom_free_throw = Arc((0, 142.5), 120, 120, theta1=180, theta2=0,\n",
    "                            linewidth=lw, color=color, linestyle='dashed')\n",
    "    # Restricted Zone, it is an arc with 4ft radius from center of the hoop\n",
    "    restricted = Arc((0, 0), 80, 80, theta1=0, theta2=180, linewidth=lw,\n",
    "                     color=color)\n",
    "\n",
    "    # Three point line\n",
    "    # Create the side 3pt lines, they are 14ft long before they begin to arc\n",
    "    corner_three_a = Rectangle((-220, -47.5), 0, 140, linewidth=lw,\n",
    "                               color=color)\n",
    "    corner_three_b = Rectangle((220, -47.5), 0, 140, linewidth=lw, color=color)\n",
    "    # 3pt arc - center of arc will be the hoop, arc is 23'9\" away from hoop\n",
    "    # I just played around with the theta values until they lined up with the \n",
    "    # threes\n",
    "    three_arc = Arc((0, 0), 475, 475, theta1=22, theta2=158, linewidth=lw,\n",
    "                    color=color)\n",
    "\n",
    "    # Center Court\n",
    "    center_outer_arc = Arc((0, 422.5), 120, 120, theta1=180, theta2=0,\n",
    "                           linewidth=lw, color=color)\n",
    "    center_inner_arc = Arc((0, 422.5), 40, 40, theta1=180, theta2=0,\n",
    "                           linewidth=lw, color=color)\n",
    "\n",
    "    # List of the court elements to be plotted onto the axes\n",
    "    court_elements = [hoop, backboard, outer_box, inner_box, top_free_throw,\n",
    "                      bottom_free_throw, restricted, corner_three_a,\n",
    "                      corner_three_b, three_arc, center_outer_arc,\n",
    "                      center_inner_arc]\n",
    "\n",
    "    if outer_lines:\n",
    "        # Draw the half court line, baseline and side out bound lines\n",
    "        outer_lines = Rectangle((-250, -47.5), 500, 470, linewidth=lw,\n",
    "                                color=color, fill=False)\n",
    "        court_elements.append(outer_lines)\n",
    "\n",
    "    # Add the court elements onto the axes\n",
    "    for element in court_elements:\n",
    "        ax.add_patch(element)\n",
    "\n",
    "    return ax"
   ]
  },
  {
   "cell_type": "code",
   "execution_count": null,
   "id": "b9b03cb9",
   "metadata": {},
   "outputs": [],
   "source": [
    "## Demonstarting draw_court\n",
    "fig,ax = plt.subplots(figsize=(6,8))\n",
    "\n",
    "draw_court(ax=ax)\n",
    "\n",
    "plt.xlim(-250,250)\n",
    "plt.ylim(-100,500)"
   ]
  },
  {
   "cell_type": "markdown",
   "id": "e41b28fd",
   "metadata": {},
   "source": [
    "Now remake your two heat maps from above. This time use the `.ax_joint` attribute of a `JointGrid` along with `draw_court` to draw the court lines on top of your heat map."
   ]
  },
  {
   "cell_type": "code",
   "execution_count": null,
   "id": "2006c209",
   "metadata": {},
   "outputs": [],
   "source": [
    "## Code here\n",
    "\n"
   ]
  },
  {
   "cell_type": "code",
   "execution_count": null,
   "id": "dfb7d5a3",
   "metadata": {},
   "outputs": [],
   "source": [
    "## Code here\n",
    "\n"
   ]
  },
  {
   "cell_type": "markdown",
   "id": "dda449cc",
   "metadata": {},
   "source": [
    "Do you see the difference these annotations make? Describe the differences between LeBron's rookie and 19$^\\text{th}$ season shot distributions in terms of the court.\n",
    "\n",
    "How did the addition of some domain knowledge and plot annotations assist in your analysis?"
   ]
  },
  {
   "cell_type": "markdown",
   "id": "33822e89",
   "metadata": {},
   "source": [
    "#### Write here\n",
    "\n",
    "\n"
   ]
  },
  {
   "cell_type": "markdown",
   "id": "bd1e4555",
   "metadata": {},
   "source": [
    "-----------------------------------------------\n",
    "This notebook was written for the Erdős Institute by Matthew Osborne, Ph. D., 2023.\n",
    "\n",
    "Any potential redistributors must seek and receive permission from Matthew Tyler Osborne, Ph.D. prior to redistribution. Redistribution of the material contained in this repository is conditional on acknowledgement of Matthew Tyler Osborne, Ph.D.'s original authorship and sponsorship of the Erdős Institute as subject to the license (see License.md)"
   ]
  },
  {
   "cell_type": "code",
   "execution_count": null,
   "id": "9dda2aad",
   "metadata": {},
   "outputs": [],
   "source": []
  }
 ],
 "metadata": {
  "kernelspec": {
   "display_name": "Python 3 (ipykernel)",
   "language": "python",
   "name": "python3"
  },
  "language_info": {
   "codemirror_mode": {
    "name": "ipython",
    "version": 3
   },
   "file_extension": ".py",
   "mimetype": "text/x-python",
   "name": "python",
   "nbconvert_exporter": "python",
   "pygments_lexer": "ipython3",
   "version": "3.9.15"
  }
 },
 "nbformat": 4,
 "nbformat_minor": 5
}
