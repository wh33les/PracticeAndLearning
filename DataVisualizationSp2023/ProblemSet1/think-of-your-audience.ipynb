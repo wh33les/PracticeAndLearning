{
 "cells": [
  {
   "cell_type": "markdown",
   "id": "4be294bc",
   "metadata": {},
   "source": [
    "# Tufte's Boxplot\n",
    "\n",
    "## Objective\n",
    "\n",
    "Compare the five designs of a box and whisker plot presented by Tufte below.  Would any of them pose a challenge to an audience in a publication or presentation?\n",
    "\n",
    "<img src=\"files/pdfaudienceboxplots.png\" width=\"40%\" align=\"left\"></img>\n",
    "<br/><br/><br/><br/><br/><br/><br/><br/><br/><br/><br/>\n",
    "\n",
    "## Solution\n",
    "\n",
    "To minimize ink, either design B or design C is the best.  Designs D and E are too hard to distinguish between different parts of the data point.  Design B puts the emphasis on the outliers while design C puts emphasis on the middle percentile.  For this reason, I prefer design C.\n",
    "\n",
    "# Langren's graph\n",
    "\n",
    "## Objective\n",
    "\n",
    "Interpret the data presented in the following graph by Langren and make a judgement over how hard it should have been for Langren to secure funding for a trip from Toledo, Spain to Rome, Italy.\n",
    "\n",
    "<img src=\"files/pdfaudiencelangren.png\" width=\"60%\" align=\"left\"></img>\n",
    "<br/><br/><br/><br/><br/><br/><br/><br/><br/>\n",
    "\n",
    "# Solution\n",
    "\n"
   ]
  },
  {
   "cell_type": "code",
   "execution_count": null,
   "id": "4a7c498b",
   "metadata": {},
   "outputs": [],
   "source": []
  }
 ],
 "metadata": {
  "kernelspec": {
   "display_name": "Python 3 (ipykernel)",
   "language": "python",
   "name": "python3"
  },
  "language_info": {
   "codemirror_mode": {
    "name": "ipython",
    "version": 3
   },
   "file_extension": ".py",
   "mimetype": "text/x-python",
   "name": "python",
   "nbconvert_exporter": "python",
   "pygments_lexer": "ipython3",
   "version": "3.9.12"
  }
 },
 "nbformat": 4,
 "nbformat_minor": 5
}
