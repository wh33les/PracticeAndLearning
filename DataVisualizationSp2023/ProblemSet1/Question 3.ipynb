{
 "cells": [
  {
   "cell_type": "markdown",
   "id": "ade04991",
   "metadata": {},
   "source": [
    "# Question 3"
   ]
  },
  {
   "cell_type": "code",
   "execution_count": null,
   "id": "cea2e30b",
   "metadata": {},
   "outputs": [],
   "source": [
    "import pandas as pd\n",
    "import numpy as np\n",
    "import matplotlib.pyplot as plt\n",
    "import seaborn as sns\n",
    "\n",
    "from sklearn.datasets import load_iris"
   ]
  },
  {
   "cell_type": "markdown",
   "id": "eb6c2ef1",
   "metadata": {},
   "source": [
    "In this question you will work on editing some `seaborn` plots. As we mentioned in our `seaborn` content, many seaborn plots have default options that do not conform with data visualization best practices. While there may be times that your plot is enhanced by going against best practices, we typically want to follow them. For each of the plots below:\n",
    "1. Identify what about the plot goes against best practices,\n",
    "2. Then use your knowledge of `matplotlib` and `seaborn` to edit the plots.\n",
    "\n",
    "In all of these plots we will be using the iris data set, <a href=\"https://archive.ics.uci.edu/ml/datasets/iris\">https://archive.ics.uci.edu/ml/datasets/iris</a>. We load the data using `seaborn` below."
   ]
  },
  {
   "cell_type": "code",
   "execution_count": null,
   "id": "19dbdb3f",
   "metadata": {},
   "outputs": [],
   "source": [
    "iris = sns.load_dataset('iris')"
   ]
  },
  {
   "cell_type": "code",
   "execution_count": null,
   "id": "79ba32a5",
   "metadata": {},
   "outputs": [],
   "source": [
    "iris.head()"
   ]
  },
  {
   "cell_type": "markdown",
   "id": "6d4a062a",
   "metadata": {},
   "source": [
    "<u>Data Description</u>\n",
    "\n",
    "- `sepal_length`: The length of the iris sepal in centimeters,\n",
    "- `sepal_width`: The width of the iris sepal in centimeters,\n",
    "- `petal_length`: The length of the iris sepal in centimeters,\n",
    "- `petal_width`: The width of the iris sepal in centimeters,\n",
    "- `species`: The species of irsi, setosa, virginica, or versicolor."
   ]
  },
  {
   "cell_type": "markdown",
   "id": "567d9ff9",
   "metadata": {},
   "source": [
    "#### Scatter Plot I"
   ]
  },
  {
   "cell_type": "code",
   "execution_count": null,
   "id": "bcc74504",
   "metadata": {},
   "outputs": [],
   "source": [
    "sns.scatterplot(data=iris,\n",
    "                   x='sepal_length',\n",
    "                   y='sepal_width')\n",
    "\n",
    "plt.show()"
   ]
  },
  {
   "cell_type": "markdown",
   "id": "0843d6e5",
   "metadata": {},
   "source": [
    "#### Edited Version"
   ]
  },
  {
   "cell_type": "code",
   "execution_count": null,
   "id": "3b605de6",
   "metadata": {},
   "outputs": [],
   "source": []
  },
  {
   "cell_type": "markdown",
   "id": "74cfd414",
   "metadata": {},
   "source": [
    "#### Scatter Plot II\n",
    "\n",
    "The following plot does not break any data visualization practices, but may be difficult to interpret for individuals that experience color blindness. Could you think of a way to make this plot more accessible?"
   ]
  },
  {
   "cell_type": "code",
   "execution_count": null,
   "id": "f8ba2d11",
   "metadata": {},
   "outputs": [],
   "source": [
    "sns.scatterplot(data=iris,\n",
    "                   x='sepal_length',\n",
    "                   y='sepal_width',\n",
    "                   hue='species')\n",
    "\n",
    "plt.xlabel(\"Sepal Length (cm)\", fontsize=12)\n",
    "plt.ylabel(\"Sepal Width (cm)\", fontsize=12)\n",
    "\n",
    "plt.show()"
   ]
  },
  {
   "cell_type": "markdown",
   "id": "740896ba",
   "metadata": {},
   "source": [
    "#### Edited Version"
   ]
  },
  {
   "cell_type": "code",
   "execution_count": null,
   "id": "16c061ac",
   "metadata": {},
   "outputs": [],
   "source": []
  },
  {
   "cell_type": "markdown",
   "id": "adf6441d",
   "metadata": {},
   "source": [
    "#### A Boxplot"
   ]
  },
  {
   "cell_type": "code",
   "execution_count": null,
   "id": "6d855273",
   "metadata": {},
   "outputs": [],
   "source": [
    "plt.figure(figsize=(4,6))\n",
    "\n",
    "sns.boxplot(data=iris,\n",
    "               x='species',\n",
    "               y='petal_length')\n",
    "\n",
    "plt.xlabel(\"Species\", fontsize=12)\n",
    "plt.ylabel(\"Petal Length (cm)\", fontsize=12)\n",
    "\n",
    "\n",
    "plt.show()"
   ]
  },
  {
   "cell_type": "code",
   "execution_count": null,
   "id": "715b5191",
   "metadata": {},
   "outputs": [],
   "source": []
  },
  {
   "cell_type": "markdown",
   "id": "85cce7f9",
   "metadata": {},
   "source": [
    "-----------------------------------------------\n",
    "This notebook was written for the Erdős Institute by Matthew Osborne, Ph. D., 2023.\n",
    "\n",
    "Any potential redistributors must seek and receive permission from Matthew Tyler Osborne, Ph.D. prior to redistribution. Redistribution of the material contained in this repository is conditional on acknowledgement of Matthew Tyler Osborne, Ph.D.'s original authorship and sponsorship of the Erdős Institute as subject to the license (see License.md)"
   ]
  },
  {
   "cell_type": "code",
   "execution_count": null,
   "id": "82294101",
   "metadata": {},
   "outputs": [],
   "source": []
  }
 ],
 "metadata": {
  "kernelspec": {
   "display_name": "Python 3 (ipykernel)",
   "language": "python",
   "name": "python3"
  },
  "language_info": {
   "codemirror_mode": {
    "name": "ipython",
    "version": 3
   },
   "file_extension": ".py",
   "mimetype": "text/x-python",
   "name": "python",
   "nbconvert_exporter": "python",
   "pygments_lexer": "ipython3",
   "version": "3.9.15"
  }
 },
 "nbformat": 4,
 "nbformat_minor": 5
}
