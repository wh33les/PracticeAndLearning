{
 "cells": [
  {
   "cell_type": "markdown",
   "id": "6cf1ce26",
   "metadata": {},
   "source": [
    "# Question 4"
   ]
  },
  {
   "cell_type": "code",
   "execution_count": null,
   "id": "6f24406e",
   "metadata": {},
   "outputs": [],
   "source": [
    "import plotly.express as px\n",
    "import plotly.graph_objects as go\n",
    "from dash import Dash, html, dcc, Input, Output\n",
    "from jupyter_dash import JupyterDash\n",
    "\n",
    "\n",
    "import numpy as np\n",
    "import pandas as pd"
   ]
  },
  {
   "cell_type": "markdown",
   "id": "2b94ffa5",
   "metadata": {},
   "source": [
    "In this notebook you will get some practice making dashboards using `plotly` and `dash`."
   ]
  },
  {
   "cell_type": "markdown",
   "id": "6f27864a",
   "metadata": {},
   "source": [
    "## An iris dashboard\n",
    "\n",
    "Load the iris data using `seaborn` below."
   ]
  },
  {
   "cell_type": "code",
   "execution_count": null,
   "id": "37b23631",
   "metadata": {},
   "outputs": [],
   "source": [
    "from seaborn import load_dataset\n",
    "\n",
    "iris = load_dataset(\"iris\")\n",
    "\n",
    "iris.head()"
   ]
  },
  {
   "cell_type": "markdown",
   "id": "5f4d7f15",
   "metadata": {},
   "source": [
    "Make a dashboard that will allow the user to choose the vertical and horizontal axes of a scatter plot of these data. Color the points by `species`. Also make sure you have appropriate axis labels.\n",
    "\n",
    "<i>Note: That when you have multiple `Input`s you place them within a `list` and then reference them in order in the `callback` function</i>."
   ]
  },
  {
   "cell_type": "code",
   "execution_count": null,
   "id": "3f5fdb72",
   "metadata": {},
   "outputs": [],
   "source": []
  },
  {
   "cell_type": "code",
   "execution_count": null,
   "id": "6864f101",
   "metadata": {},
   "outputs": [],
   "source": []
  },
  {
   "cell_type": "code",
   "execution_count": null,
   "id": "2ba40e86",
   "metadata": {},
   "outputs": [],
   "source": []
  },
  {
   "cell_type": "markdown",
   "id": "742c7ac5",
   "metadata": {},
   "source": [
    "## A shot chart dashboard\n",
    "\n",
    "Load the LeBron James shot attempt data below."
   ]
  },
  {
   "cell_type": "code",
   "execution_count": null,
   "id": "209ac778",
   "metadata": {},
   "outputs": [],
   "source": [
    "lbj = pd.read_csv(\"../../data/lebron_james_taken_shots.csv\")\n",
    "\n",
    "lbj.head()"
   ]
  },
  {
   "cell_type": "markdown",
   "id": "645a025e",
   "metadata": {},
   "source": [
    "Make a dashboard that allows the audience to plot the shot selection for every season, or a season of the choice using a dropdown widget. When you have that done, try adding a button that allows the audience to highlight which shots he made. Note that the `made_shot` column is `1` if he made the shot and `0` if he did not. Also you do not need to try and draw the court outline on this plot."
   ]
  },
  {
   "cell_type": "code",
   "execution_count": null,
   "id": "12b63f10",
   "metadata": {},
   "outputs": [],
   "source": []
  },
  {
   "cell_type": "code",
   "execution_count": null,
   "id": "5c4a1359",
   "metadata": {},
   "outputs": [],
   "source": []
  },
  {
   "cell_type": "code",
   "execution_count": null,
   "id": "e58d17f1",
   "metadata": {},
   "outputs": [],
   "source": []
  },
  {
   "cell_type": "code",
   "execution_count": null,
   "id": "23c36755",
   "metadata": {},
   "outputs": [],
   "source": []
  },
  {
   "cell_type": "markdown",
   "id": "93626f6d",
   "metadata": {},
   "source": [
    "-----------------------------------------------\n",
    "This notebook was written for the Erdős Institute by Matthew Osborne, Ph. D., 2023.\n",
    "\n",
    "Any potential redistributors must seek and receive permission from Matthew Tyler Osborne, Ph.D. prior to redistribution. Redistribution of the material contained in this repository is conditional on acknowledgement of Matthew Tyler Osborne, Ph.D.'s original authorship and sponsorship of the Erdős Institute as subject to the license (see License.md)"
   ]
  },
  {
   "cell_type": "code",
   "execution_count": null,
   "id": "7a9b33b1",
   "metadata": {},
   "outputs": [],
   "source": []
  }
 ],
 "metadata": {
  "kernelspec": {
   "display_name": "Python 3 (ipykernel)",
   "language": "python",
   "name": "python3"
  },
  "language_info": {
   "codemirror_mode": {
    "name": "ipython",
    "version": 3
   },
   "file_extension": ".py",
   "mimetype": "text/x-python",
   "name": "python",
   "nbconvert_exporter": "python",
   "pygments_lexer": "ipython3",
   "version": "3.9.15"
  }
 },
 "nbformat": 4,
 "nbformat_minor": 5
}
