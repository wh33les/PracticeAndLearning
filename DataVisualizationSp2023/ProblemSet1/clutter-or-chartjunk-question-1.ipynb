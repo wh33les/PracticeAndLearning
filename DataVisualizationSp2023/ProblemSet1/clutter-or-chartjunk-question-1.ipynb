{
 "cells": [
  {
   "cell_type": "markdown",
   "id": "3c52c02a",
   "metadata": {},
   "source": [
    "# Objective\n",
    "\n",
    "Use the data file `chartjunk_bar_data.csv` to redraw the following graph without all the chartjunk:\n",
    "\n",
    "<img align=\"left\" width=\"45%\" src=\"files/chartjunk1.png\">  \n",
    "<br/><br/><br/><br/><br/><br/><br/><br/><br/><br/><br/><br/><br/><br/>\n",
    "\n",
    "# Solution"
   ]
  },
  {
   "cell_type": "code",
   "execution_count": 1,
   "id": "460b3b55",
   "metadata": {},
   "outputs": [],
   "source": [
    "# Import the matplotlib.pyplot package\n",
    "import matplotlib.pyplot as plt"
   ]
  },
  {
   "cell_type": "code",
   "execution_count": 1,
   "id": "085e061b",
   "metadata": {},
   "outputs": [
    {
     "data": {
      "text/html": [
       "<div>\n",
       "<style scoped>\n",
       "    .dataframe tbody tr th:only-of-type {\n",
       "        vertical-align: middle;\n",
       "    }\n",
       "\n",
       "    .dataframe tbody tr th {\n",
       "        vertical-align: top;\n",
       "    }\n",
       "\n",
       "    .dataframe thead th {\n",
       "        text-align: right;\n",
       "    }\n",
       "</style>\n",
       "<table border=\"1\" class=\"dataframe\">\n",
       "  <thead>\n",
       "    <tr style=\"text-align: right;\">\n",
       "      <th></th>\n",
       "      <th>Group</th>\n",
       "      <th>Intervention A</th>\n",
       "      <th>Intervention B</th>\n",
       "    </tr>\n",
       "  </thead>\n",
       "  <tbody>\n",
       "    <tr>\n",
       "      <th>0</th>\n",
       "      <td>1</td>\n",
       "      <td>35</td>\n",
       "      <td>37</td>\n",
       "    </tr>\n",
       "    <tr>\n",
       "      <th>1</th>\n",
       "      <td>2</td>\n",
       "      <td>40</td>\n",
       "      <td>20</td>\n",
       "    </tr>\n",
       "    <tr>\n",
       "      <th>2</th>\n",
       "      <td>3</td>\n",
       "      <td>51</td>\n",
       "      <td>49</td>\n",
       "    </tr>\n",
       "  </tbody>\n",
       "</table>\n",
       "</div>"
      ],
      "text/plain": [
       "   Group  Intervention A  Intervention B\n",
       "0      1              35              37\n",
       "1      2              40              20\n",
       "2      3              51              49"
      ]
     },
     "execution_count": 1,
     "metadata": {},
     "output_type": "execute_result"
    }
   ],
   "source": [
    "# Import pandas to get the data\n",
    "import pandas as pd\n",
    "\n",
    "# Read in the data and show it\n",
    "data = pd.read_csv('files\\chartjunk_bar_data.csv')\n",
    "data"
   ]
  },
  {
   "cell_type": "code",
   "execution_count": 5,
   "id": "520a8a48",
   "metadata": {},
   "outputs": [
    {
     "data": {
      "image/png": "[encoded data removed]",
      "text/plain": [
       "<Figure size 576x432 with 1 Axes>"
      ]
     },
     "metadata": {
      "needs_background": "light"
     },
     "output_type": "display_data"
    }
   ],
   "source": [
    "# Create a figure object for the graph\n",
    "plt.figure(figsize=(8,6))\n",
    "\n",
    "# Horizontal grid lines\n",
    "plt.grid(axis='y',\n",
    "        zorder=0)\n",
    "\n",
    "# Intervention A\n",
    "plt.bar([0.84,1.84,2.84], \n",
    "        data[\"Intervention A\"],\n",
    "        width=0.3,\n",
    "        label='Intervention A',\n",
    "        zorder=3)\n",
    "\n",
    "# Intervention B\n",
    "plt.bar([1.16, 2.16, 3.16], \n",
    "        data[\"Intervention B\"],\n",
    "        width=0.3,\n",
    "        label='Intervention B',\n",
    "        color='red',\n",
    "        zorder=3)\n",
    "\n",
    "# Legend\n",
    "plt.legend()\n",
    "\n",
    "# Title\n",
    "plt.title(\"Effects of two different interventions across three groups\", \n",
    "          fontsize=20)\n",
    "  \n",
    "# Axis labels\n",
    "plt.xlabel(\"Group\", fontsize=16)\n",
    "plt.ylabel(\"Effects\", fontsize=16)\n",
    "\n",
    "# Axis tick marks\n",
    "plt.xticks(range(1,4,1))\n",
    "\n",
    "# Show the graph\n",
    "plt.show()"
   ]
  }
 ],
 "metadata": {
  "kernelspec": {
   "display_name": "Python 3 (ipykernel)",
   "language": "python",
   "name": "python3"
  },
  "language_info": {
   "codemirror_mode": {
    "name": "ipython",
    "version": 3
   },
   "file_extension": ".py",
   "mimetype": "text/x-python",
   "name": "python",
   "nbconvert_exporter": "python",
   "pygments_lexer": "ipython3",
   "version": "3.9.12"
  }
 },
 "nbformat": 4,
 "nbformat_minor": 5
}
